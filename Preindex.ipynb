{
 "cells": [
  {
   "cell_type": "markdown",
   "metadata": {},
   "source": [
    "@Abdulrahman Alabrash \n",
    "\n",
    "https://github.com/alabrashJr/DCNN-Julia\n"
   ]
  },
  {
   "cell_type": "markdown",
   "metadata": {},
   "source": [
    "Parse each line trec_all_parsed.txt file to node struct"
   ]
  },
  {
   "cell_type": "code",
   "execution_count": 3,
   "metadata": {},
   "outputs": [
    {
     "name": "stdout",
     "output_type": "stream",
     "text": [
      "[advmod(develop-4, How-1), aux(develop-4, did-2), nsubj(develop-4, serfdom-3), root(ROOT-0, develop-4), prt(develop-4, in-5), cc(develop-4, and-6), advmod(leave-8, then-7), conj(develop-4, leave-8), dobj(leave-8, Russia-9), punct(develop-4, ?-10)]\n",
      "[det(films-2, What-1), nsubj(featured-3, films-2), root(ROOT-0, featured-3), det(character-5, the-4), nsubj(Doyle-7, character-5), nn(Doyle-7, Popeye-6), xcomp(featured-3, Doyle-7), punct(featured-3, ?-8)]\n",
      "[advmod(find-4, How-1), aux(find-4, can-2), nsubj(find-4, I-3), root(ROOT-0, find-4), det(list-6, a-5), dobj(find-4, list-6), prep(list-6, of-7), poss(names-11, celebrities-8), possessive(celebrities-8, '-9), amod(names-11, real-10), pobj(of-7, names-11), punct(find-4, ?-12)]\n",
      "[det(fowl-2, What-1), nsubj(grabs-3, fowl-2), root(ROOT-0, grabs-3), det(spotlight-5, the-4), dobj(grabs-3, spotlight-5), prep(grabs-3, after-6), det(Year-9, the-7), amod(Year-9, Chinese-8), pobj(after-6, Year-9), prep(Year-9, of-10), det(Monkey-12, the-11), pobj(of-10, Monkey-12), punct(grabs-3, ?-13)]\n",
      "[root(ROOT-0, What-1), cop(What-1, is-2), det(form-5, the-3), amod(form-5, full-4), nsubj(What-1, form-5), advmod(What-1, of-6), punct(of-6, .-7), nsubj(What-1, com-8), punct(What-1, ?-9)]\n",
      "[det(scoundrel-3, What-1), amod(scoundrel-3, contemptible-2), nsubj(stole-4, scoundrel-3), root(ROOT-0, stole-4), det(cork-6, the-5), dobj(stole-4, cork-6), prep(stole-4, from-7), poss(lunch-9, my-8), pobj(from-7, lunch-9), punct(stole-4, ?-10)]\n",
      "[det(team-2, What-1), dobj(become-9, team-2), aux(become-9, did-3), poss(Browns-8, baseball-4), possessive(baseball-4, 's-5), nn(Browns-8, St.-6), nn(Browns-8, Louis-7), nsubj(become-9, Browns-8), root(ROOT-0, become-9), punct(become-9, ?-10)]\n",
      "[root(ROOT-0, What-1), cop(What-1, is-2), det(profession-5, the-3), amod(profession-5, oldest-4), nsubj(What-1, profession-5), punct(What-1, ?-6)]\n",
      "[root(ROOT-0, What-1), cop(What-1, are-2), nn(enzymes-4, liver-3), nsubj(What-1, enzymes-4), punct(What-1, ?-5)]\n",
      "[root(ROOT-0, Name-1), det(hunter-5, the-2), amod(hunter-5, scar-faced-3), nn(hunter-5, bounty-4), dobj(Name-1, hunter-5), prep(hunter-5, of-6), det(West-9, The-7), nn(West-9, Old-8), pobj(of-6, West-9), punct(Name-1, .-10)]\n"
     ]
    }
   ],
   "source": [
    ";head Data/TREC_all_parsed.txt"
   ]
  },
  {
   "cell_type": "code",
   "execution_count": 4,
   "metadata": {},
   "outputs": [
    {
     "name": "stderr",
     "output_type": "stream",
     "text": [
      "┌ Info: Recompiling stale cache file /home/ec2-user/.julia/compiled/v1.1/HDF5/L7Dga.ji for HDF5 [f67ccb44-e63f-5c2f-98bd-6dc0ccc4ba2f]\n",
      "└ @ Base loading.jl:1184\n"
     ]
    }
   ],
   "source": [
    "using Pkg; for p in (\"JLD2\",\"FileIO\"); haskey(Pkg.installed(),p) || Pkg.add(p); end\n",
    "using HDF5,JLD2,FileIO"
   ]
  },
  {
   "cell_type": "code",
   "execution_count": 5,
   "metadata": {},
   "outputs": [],
   "source": [
    "mutable struct node \n",
    "    word\n",
    "    kidsword\n",
    "    kidsindex\n",
    "    parent\n",
    "    finished\n",
    "    is_word\n",
    "    selfindex\n",
    "    parentindex\n",
    "    label\n",
    "    ind\n",
    "node(word) = word == nothing ? new(nothing,nothing,nothing,nothing,nothing,0,nothing,nothing,nothing,nothing) : new(word,[],[],[],0,1,0,0,\"\",-1)\n",
    "    \n",
    "end"
   ]
  },
  {
   "cell_type": "code",
   "execution_count": 6,
   "metadata": {},
   "outputs": [],
   "source": [
    "input_file  = \"Data/TREC_all_parsed.txt\";"
   ]
  },
  {
   "cell_type": "code",
   "execution_count": 7,
   "metadata": {},
   "outputs": [],
   "source": [
    "input = open(input_file,\"r\")\n",
    "counter =0\n",
    "doc = []\n",
    "fileReaded=readlines(input)\n",
    "for i in fileReaded\n",
    "           counter += 1\n",
    "            #counter\n",
    "           #i = strip(i)\n",
    "           i = strip(i,['[',']',' '])\n",
    "           #print i\n",
    "           current = split(i,\"), \")\n",
    "           node_container = Dict()\n",
    "           ROOT = node(\"ROOT\")\n",
    "           node_container[0] = ROOT    \n",
    "           for (index,j) in enumerate(current)\n",
    "               \n",
    "               label = split(j,'(')[1]\n",
    "               j = strip((split(j,'(')[2]),')')\n",
    "               current_list = [strip(i) for i in split(j,\", \")]\n",
    "               current_node=node(join(split(current_list[2],'-')[1:end-1],'_'))\n",
    "               current_node.selfindex=parse(Int,split(current_list[2],'-')[end])\n",
    "               current_node.label = label\n",
    "               if join(split(current_list[1],'-')[1:end-1],'_') == \"ROOT\"\n",
    "                       current_node.parent = ROOT\n",
    "               else               \n",
    "                    current_node.parent=join(split(current_list[1],'-')[1:end-1],'_')\n",
    "                    current_node.parentindex=parse(Int,split(current_list[1],'-')[end])\n",
    "               end    \n",
    "               node_container[current_node.selfindex] = current_node\n",
    "           \n",
    "           end\n",
    "           node_container1 = deepcopy(node_container);\n",
    "            for (index,current) in node_container1\n",
    "               p_index = current.parentindex\n",
    "               if p_index ∉ keys(node_container)\n",
    "                   new_node = node(current.parent)\n",
    "                   new_node.parent = ROOT\n",
    "                   new_node.selfindex = p_index\n",
    "                   node_container[p_index] = new_node    \n",
    "               end\n",
    "            end\n",
    "           \n",
    "            for (index,current) in node_container1\n",
    "               if current.word == \"ROOT\"\n",
    "                   continue\n",
    "               end\n",
    "               p_index = current.parentindex\n",
    "               #print p_index\n",
    "               if p_index ∉ keys(node_container)\n",
    "                   new_node = node(current.parent)\n",
    "                   new_node.parent = ROOT\n",
    "                   new_node.selfindex = p_index\n",
    "                   node_container[p_index] = new_node\n",
    "               end\n",
    "               p = node_container[p_index]\n",
    "               \n",
    "               push!(p.kidsword,current.word)\n",
    "               push!(p.kidsindex,current.selfindex)\n",
    "           end\n",
    "   #         for (j,i) in node_container\n",
    "   #             println( \"self\\t\", i.selfindex, \"\\tparent\\t\", i.parentindex,\"\\tchild\\t\", i.kidsindex)\n",
    "          # end\n",
    "           push!(doc,node_container)\n",
    "           #break \n",
    "end"
   ]
  },
  {
   "cell_type": "code",
   "execution_count": 8,
   "metadata": {},
   "outputs": [],
   "source": [
    "save(\"Data/data.jld2\",\"data\",doc) # using FileIO pacakge "
   ]
  },
  {
   "cell_type": "raw",
   "metadata": {},
   "source": [
    "#another way to save file \n",
    "Pkg.add(\"HDF5\")\n",
    "using HDF5, JLD\n",
    "d = Dict(\n",
    "    (\"a\", \"b\") => [1, 2, 3],\n",
    "    (\"c\", \"d\") => [4, 5, 6],\n",
    "    (\"e\", \"f\") => [7, 8, 9]\n",
    ")\n",
    "save(\"data.jld\", \"data\", d)\n",
    "load(\"data.jld\")[\"data\"]"
   ]
  },
  {
   "cell_type": "code",
   "execution_count": null,
   "metadata": {},
   "outputs": [],
   "source": [
    "#to do change JLD to JLD2 https://github.com/JuliaIO/JLD2.jl"
   ]
  },
  {
   "cell_type": "code",
   "execution_count": null,
   "metadata": {},
   "outputs": [],
   "source": []
  },
  {
   "cell_type": "code",
   "execution_count": null,
   "metadata": {},
   "outputs": [],
   "source": []
  }
 ],
 "metadata": {
  "kernelspec": {
   "display_name": "Julia 1.1.0",
   "language": "julia",
   "name": "julia-1.1"
  },
  "language_info": {
   "file_extension": ".jl",
   "mimetype": "application/julia",
   "name": "julia",
   "version": "1.1.0"
  }
 },
 "nbformat": 4,
 "nbformat_minor": 2
}
