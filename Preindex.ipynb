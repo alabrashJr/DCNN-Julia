{
 "cells": [
  {
   "cell_type": "markdown",
   "metadata": {},
   "source": [
    "@Abdulrahman Alabrash \n",
    "\n",
    "https://github.com/alabrashJr/DCNN-Julia\n"
   ]
  },
  {
   "cell_type": "code",
   "execution_count": 1,
   "metadata": {},
   "outputs": [
    {
     "name": "stderr",
     "output_type": "stream",
     "text": [
      "┌ Info: Recompiling stale cache file /home/ec2-user/.julia/compiled/v1.1/HDF5/L7Dga.ji for HDF5 [f67ccb44-e63f-5c2f-98bd-6dc0ccc4ba2f]\n",
      "└ @ Base loading.jl:1184\n"
     ]
    }
   ],
   "source": [
    "using Pkg; for p in (\"HDF5\",\"JLD2\",\"FileIO\"); haskey(Pkg.installed(),p) || Pkg.add(p); end\n",
    "using HDF5,JLD2,FileIO"
   ]
  },
  {
   "cell_type": "code",
   "execution_count": 2,
   "metadata": {},
   "outputs": [],
   "source": [
    "mutable struct node \n",
    "    word\n",
    "    kidsword\n",
    "    kidsindex\n",
    "    parent\n",
    "    finished\n",
    "    is_word\n",
    "    selfindex\n",
    "    parentindex\n",
    "    label\n",
    "    ind\n",
    "node(word) = word == nothing ? new(nothing,nothing,nothing,nothing,nothing,0,nothing,nothing,nothing,nothing) : new(word,[],[],[],0,1,0,0,\"\",-1)\n",
    "    \n",
    "end"
   ]
  },
  {
   "cell_type": "code",
   "execution_count": 3,
   "metadata": {},
   "outputs": [],
   "source": [
    "input_file  = \"DCNN/TREC/TREC_all_parsed.txt\";\n",
    "output_file = \"DCCN/TREC/TREC_all_tree.p\";"
   ]
  },
  {
   "cell_type": "code",
   "execution_count": 4,
   "metadata": {},
   "outputs": [
    {
     "ename": "SystemError",
     "evalue": "SystemError: opening file \"DCNN/TREC/TREC_all_parsed.txt\": No such file or directory",
     "output_type": "error",
     "traceback": [
      "SystemError: opening file \"DCNN/TREC/TREC_all_parsed.txt\": No such file or directory",
      "",
      "Stacktrace:",
      " [1] #systemerror#43(::Nothing, ::Function, ::String, ::Bool) at ./error.jl:134",
      " [2] systemerror at ./error.jl:134 [inlined]",
      " [3] #open#309(::Bool, ::Nothing, ::Nothing, ::Nothing, ::Nothing, ::Function, ::String) at ./iostream.jl:283",
      " [4] #open at ./none:0 [inlined]",
      " [5] open(::String, ::String) at ./iostream.jl:339",
      " [6] top-level scope at In[4]:1"
     ]
    }
   ],
   "source": [
    "input = open(input_file,\"r\")\n",
    "counter =0\n",
    "doc = []\n",
    "    for i in readlines(input)\n",
    "        # i\n",
    "        counter += 1\n",
    "         #counter\n",
    "        #i = strip(i)\n",
    "        i = strip(i,['[',']',' '])\n",
    "        #print i\n",
    "        current = split(i,\"), \")\n",
    "        node_container = Dict()\n",
    "        ROOT = node(\"ROOT\")\n",
    "        node_container[0] = ROOT    \n",
    "        for (index,j) in enumerate(current)\n",
    "            label = split(j,'(')[1]\n",
    "            j = strip((split(j,'(')[2]),')')\n",
    "            current_list = [strip(i) for i in split(j,\", \")]\n",
    "            current_node=node(join(split(current_list[2],'-')[1:end-1],'_'))\n",
    "            current_node.selfindex=parse(Int,split(current_list[2],'-')[end])\n",
    "            current_node.label = label\n",
    "            \n",
    "        if join(split(current_list[1],'-')[1:end-1],'_') == \"ROOT\"\n",
    "                current_node.parent = ROOT\n",
    "            else               \n",
    "            current_node.parent=join(split(current_list[1],'-')[1:end-1],'_')\n",
    "            current_node.parentindex=parse(Int,split(current_list[1],'-')[end])\n",
    "             node_container[current_node.selfindex] = current_node\n",
    "            end\n",
    "        end\n",
    "        node_container1 = deepcopy(node_container)\n",
    "        for (index,current) in node_container1\n",
    "            p_index = current.parentindex\n",
    "            #print p_index\n",
    "            if p_index ∉ keys(node_container)\n",
    "                new_node = node(current.parent)\n",
    "                new_node.parent = ROOT\n",
    "                new_node.selfindex = p_index\n",
    "                node_container[p_index] = new_node    \n",
    "                end\n",
    "        end\n",
    "        for (index,current) in node_container1\n",
    "            if current.word == \"ROOT\"\n",
    "                continue\n",
    "            end\n",
    "            p_index = current.parentindex\n",
    "            #print p_index\n",
    "            if p_index ∉ keys(node_container)\n",
    "                new_node = node(current.parent)\n",
    "                new_node.parent = ROOT\n",
    "                new_node.selfindex = p_index\n",
    "                node_container[p_index] = new_node\n",
    "            end\n",
    "            p = node_container[p_index]\n",
    "            \n",
    "            push!(p.kidsword,current.word)\n",
    "            push!(p.kidsindex,current.selfindex)\n",
    "        end\n",
    "        for (j,i) in node_container\n",
    "            println( \"self\\t\", i.selfindex, \"\\tparent\\t\", i.parentindex,\"\\tchild\\t\", i.kidsindex)\n",
    "        end\n",
    "        push!(doc,node_container)\n",
    "    end\n",
    "     #length(doc)\n",
    "    "
   ]
  },
  {
   "cell_type": "code",
   "execution_count": 5,
   "metadata": {},
   "outputs": [
    {
     "data": {
      "text/latex": [
       "\\begin{itemize}\n",
       "\\item \\texttt{save(filename, data...)} saves the contents of a formatted file,\n",
       "\n",
       "\\end{itemize}\n",
       "trying to infer the format from \\texttt{filename}.\n",
       "\n",
       "\\begin{itemize}\n",
       "\\item \\texttt{save(Stream(format\"PNG\",io), data...)} specifies the format directly, and bypasses inference.\n",
       "\n",
       "\n",
       "\\item \\texttt{save(File(format\"PNG\",filename), data...)} specifies the format directly, and bypasses inference.\n",
       "\n",
       "\n",
       "\\item \\texttt{save(f, data...; options...)} passes keyword arguments on to the saver.\n",
       "\n",
       "\\end{itemize}\n"
      ],
      "text/markdown": [
       "  * `save(filename, data...)` saves the contents of a formatted file,\n",
       "\n",
       "trying to infer the format from `filename`.\n",
       "\n",
       "  * `save(Stream(format\"PNG\",io), data...)` specifies the format directly, and bypasses inference.\n",
       "  * `save(File(format\"PNG\",filename), data...)` specifies the format directly, and bypasses inference.\n",
       "  * `save(f, data...; options...)` passes keyword arguments on to the saver.\n"
      ],
      "text/plain": [
       "    •    \u001b[36msave(filename, data...)\u001b[39m saves the contents of a formatted file,\n",
       "\n",
       "  trying to infer the format from \u001b[36mfilename\u001b[39m.\n",
       "\n",
       "    •    \u001b[36msave(Stream(format\"PNG\",io), data...)\u001b[39m specifies the format\n",
       "        directly, and bypasses inference.\n",
       "\n",
       "    •    \u001b[36msave(File(format\"PNG\",filename), data...)\u001b[39m specifies the format\n",
       "        directly, and bypasses inference.\n",
       "\n",
       "    •    \u001b[36msave(f, data...; options...)\u001b[39m passes keyword arguments on to the\n",
       "        saver."
      ]
     },
     "execution_count": 5,
     "metadata": {},
     "output_type": "execute_result"
    }
   ],
   "source": [
    "@doc save"
   ]
  },
  {
   "cell_type": "code",
   "execution_count": 6,
   "metadata": {},
   "outputs": [
    {
     "ename": "UndefVarError",
     "evalue": "UndefVarError: doc not defined",
     "output_type": "error",
     "traceback": [
      "UndefVarError: doc not defined",
      "",
      "Stacktrace:",
      " [1] top-level scope at In[6]:1"
     ]
    }
   ],
   "source": [
    "save(\"data.jld2\",\"data\",doc) # using FileIO pacakge "
   ]
  },
  {
   "cell_type": "raw",
   "metadata": {},
   "source": [
    "#another way to save file \n",
    "Pkg.add(\"HDF5\")\n",
    "using HDF5, JLD\n",
    "d = Dict(\n",
    "    (\"a\", \"b\") => [1, 2, 3],\n",
    "    (\"c\", \"d\") => [4, 5, 6],\n",
    "    (\"e\", \"f\") => [7, 8, 9]\n",
    ")\n",
    "save(\"data.jld\", \"data\", d)\n",
    "load(\"data.jld\")[\"data\"]"
   ]
  },
  {
   "cell_type": "code",
   "execution_count": 7,
   "metadata": {},
   "outputs": [],
   "source": [
    "#to do change JLD to JLD2 https://github.com/JuliaIO/JLD2.jl"
   ]
  },
  {
   "cell_type": "code",
   "execution_count": null,
   "metadata": {},
   "outputs": [],
   "source": []
  },
  {
   "cell_type": "code",
   "execution_count": null,
   "metadata": {},
   "outputs": [],
   "source": []
  }
 ],
 "metadata": {
  "kernelspec": {
   "display_name": "Julia 1.1.0",
   "language": "julia",
   "name": "julia-1.1"
  },
  "language_info": {
   "file_extension": ".jl",
   "mimetype": "application/julia",
   "name": "julia",
   "version": "1.1.0"
  }
 },
 "nbformat": 4,
 "nbformat_minor": 2
}
