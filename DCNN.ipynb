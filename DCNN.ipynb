{
 "cells": [
  {
   "cell_type": "code",
   "execution_count": 2,
   "metadata": {},
   "outputs": [],
   "source": [
    "using Pkg; for p in (\"Embeddings\",\"DataStructures\",\"DataFrames\",\"FileIO\",\"LinearAlgebra\",\"Knet\",\"FileIO\"); haskey(Pkg.installed(),p) || Pkg.add(p); end\n",
    "using DataStructures,DataFrames,FileIO,Embeddings,LinearAlgebra\n",
    "using Knet: Knet, conv4, pool, mat, KnetArray, nll, zeroone, progress, sgd, param, param0, dropout, relu, Data"
   ]
  },
  {
   "cell_type": "code",
   "execution_count": 3,
   "metadata": {},
   "outputs": [
    {
     "data": {
      "text/plain": [
       "0"
      ]
     },
     "execution_count": 3,
     "metadata": {},
     "output_type": "execute_result"
    }
   ],
   "source": [
    "#read data from saved file \n",
    "revs, W, W2, word_idx_map, vocab=load(\"TREC_sib.jld2\",\"datas\");\n",
    "word_idx_map[\"ROOT\"] = 0"
   ]
  },
  {
   "cell_type": "code",
   "execution_count": 14,
   "metadata": {},
   "outputs": [
    {
     "data": {
      "text/plain": [
       "Embed(P(KnetArray{Float32,2}(10097,300)))"
      ]
     },
     "execution_count": 14,
     "metadata": {},
     "output_type": "execute_result"
    }
   ],
   "source": [
    "struct Embed; w; end\n",
    "Embed(vocabsize::Int,embedsize::Int) = Embed(param(embedsize,vocabsize))\n",
    "(e::Embed)(x) = e.w[:,x]\n",
    "W2=Embed(300,length(vocab))"
   ]
  },
  {
   "cell_type": "code",
   "execution_count": 254,
   "metadata": {},
   "outputs": [
    {
     "data": {
      "text/plain": [
       "get_text_mat (generic function with 1 method)"
      ]
     },
     "execution_count": 254,
     "metadata": {},
     "output_type": "execute_result"
    }
   ],
   "source": [
    "#how the source code is representing the question text as matrix \n",
    "function get_text_mat(t,word_idx_map,filter_h=5)\n",
    "    #t the text of question\n",
    "    x=[] # output matrix\n",
    "    pad=filter_h -1 # padding number\n",
    "    for i in collect(1:pad);push!(x,0);end #adding padding \n",
    "    words=split(t)\n",
    "    #extract the unique id of words in the question text and adding it to the matrix \n",
    "    for w in words\n",
    "        if w in keys(word_idx_map);push!(x,word_idx_map[w])\n",
    "        else; @show w ;end\n",
    "    end    \n",
    "\n",
    "    while length(x)<56+2*pad    # accomplish 64 +1 size by adding zeros till finish \n",
    "            push!(x,0)\n",
    "    end\n",
    "    \n",
    "    return  x\n",
    "end"
   ]
  },
  {
   "cell_type": "code",
   "execution_count": 15,
   "metadata": {},
   "outputs": [
    {
     "data": {
      "text/plain": [
       "get_tree_rep (generic function with 1 method)"
      ]
     },
     "execution_count": 15,
     "metadata": {},
     "output_type": "execute_result"
    }
   ],
   "source": [
    "#how the source code is representing the question tree as matrix \n",
    "function get_tree_rep(r,word_idx_map)\n",
    "# question \n",
    "#@show t=r[\"tree\"] #the tree of question\n",
    "    each_sent=deepcopy(r)# output matrix\n",
    "    for (j, each_word) in enumerate(each_sent[1:end-1])\n",
    "        #@show (j, each_word)\n",
    "            for (l, each_field) in enumerate(each_word)\n",
    "           # @show (l, each_field)\n",
    "                if each_field in keys( word_idx_map)\n",
    "                #@show j,l ;\n",
    "                    each_sent[j]=Array{Any,1}(each_sent[j])\n",
    "                     each_sent[j][l] = word_idx_map[each_field]\n",
    "                elseif each_field == 0\n",
    "                    continue\n",
    "                else\n",
    "                    @show each_field\n",
    "                end\n",
    "            end\n",
    "    end       \n",
    "    return each_sent;\n",
    "end"
   ]
  },
  {
   "cell_type": "raw",
   "metadata": {},
   "source": [
    "get_tree_rep(revs[1],word_idx_map) -> 46-Array of size 10"
   ]
  },
  {
   "cell_type": "raw",
   "metadata": {},
   "source": [
    "get_text_mat(revs[1],word_idx_map,5) -> 65-element "
   ]
  },
  {
   "cell_type": "code",
   "execution_count": 16,
   "metadata": {},
   "outputs": [
    {
     "ename": "UndefVarError",
     "evalue": "UndefVarError: get_text_mat not defined",
     "output_type": "error",
     "traceback": [
      "UndefVarError: get_text_mat not defined",
      "",
      "Stacktrace:",
      " [1] train_dev_test(::Array{Any,1}) at ./In[16]:5",
      " [2] top-level scope at In[16]:29"
     ]
    }
   ],
   "source": [
    "function train_dev_test(revs)\n",
    "    s1,s2,s3=[],[],[]\n",
    "    t1,t2,t3=[],[],[]\n",
    "    for rev in revs\n",
    "    sent =get_text_mat(rev[\"text\"], word_idx_map,5)   \n",
    "    push!(sent,rev[\"y\"])\n",
    "    sent_tensor = get_tree_rep(rev[\"tree\"], word_idx_map)\n",
    "        \n",
    "    if rev[\"split\"]==1\n",
    "            push!(s1,KnetArray{Int}(sent))\n",
    "            push!(t1,sent_tensor)\n",
    "    elseif rev[\"split\"]==2\n",
    "            push!(s2,KnetArray{Int}(sent))\n",
    "            push!(t2,sent_tensor)\n",
    "    elseif rev[\"split\"]==3\n",
    "            push!(s3,KnetArray{Int}(sent))\n",
    "            push!(t3,sent_tensor)\n",
    "    end\n",
    "end\n",
    "\n",
    "    train = hcat([f1 for f1 in s1]...)\n",
    "    test =hcat([f1 for f1 in s2]...)\n",
    "    dev = hcat([f1 for f1 in s3]...)\n",
    "    train_tensor = t1\n",
    "    test_tensor = t2\n",
    "    dev_tensor = t3\n",
    "    return (train,test,dev),(train_tensor,test_tensor,dev_tensor)\n",
    "end\n",
    "dataset,datasetTensor=train_dev_test(revs);\n"
   ]
  },
  {
   "cell_type": "markdown",
   "metadata": {},
   "source": [
    "dataset[1] --> train 65×5451 } text data\n",
    "dataset[2]----> test 65×501  }\n",
    "dataset[3] ----> dev 0x0     }\n",
    "\n",
    "datasetTensor[1] ---> train_tensor 5451(46(10)))\n",
    "datasetTensor[2] ---> test_tensor 501(46(10)))\n",
    "datasetTensor[3] --->dev_tensor 0(0(0))"
   ]
  },
  {
   "cell_type": "code",
   "execution_count": null,
   "metadata": {},
   "outputs": [],
   "source": []
  },
  {
   "cell_type": "code",
   "execution_count": null,
   "metadata": {},
   "outputs": [],
   "source": []
  },
  {
   "cell_type": "code",
   "execution_count": null,
   "metadata": {},
   "outputs": [],
   "source": []
  },
  {
   "cell_type": "raw",
   "metadata": {},
   "source": [
    "BATCHSIZE=170\n",
    "function seqbatch(x,y,B,T)\n",
    "    N = length(x) ÷ B\n",
    "    x = permutedims(reshape(x[1:N*B],N,B))\n",
    "    y = permutedims(reshape(y[1:N*B],N,B))\n",
    "    d = []; for i in 0:T:N-T\n",
    "        push!(d, (x[:,i+1:i+T], y[:,i+1:i+T]))\n",
    "    end\n",
    "    return d\n",
    "end\n",
    "allw = vcat((x->x[1]).(data)...)\n",
    "allt = vcat((x->x[2]).(data)...)\n",
    "d = seqbatch(allw, allt, BATCHSIZE, SEQLENGTH);"
   ]
  },
  {
   "cell_type": "raw",
   "metadata": {},
   "source": [
    "# Define a convolutional layer:\n",
    "struct Conv; w; b; f; p; end\n",
    "(c::Conv)(x) = c.f.(pool(conv4(c.w, dropout(x,c.p)) .+ c.b))\n",
    "Conv(w1::Int,w2::Int,cx::Int,cy::Int,f=relu;pdrop=0) = Conv(param(w1,w2,cx,cy), param0(1,1,cy,1), f, pdrop)"
   ]
  },
  {
   "cell_type": "raw",
   "metadata": {},
   "source": [
    "# Redefine dense layer (See mlp.ipynb):\n",
    "struct Dense; w; b; f; p; end\n",
    "(d::Dense)(x) = d.f.(d.w * mat(dropout(x,d.p)) .+ d.b) # mat reshapes 4-D tensor to 2-D matrix so we can use matmul\n",
    "Dense(i::Int,o::Int,f=relu;pdrop=0) = Dense(param(o,i), param0(o), f, pdrop)"
   ]
  },
  {
   "cell_type": "raw",
   "metadata": {},
   "source": [
    "# Let's define a chain of layers\n",
    "struct Chain\n",
    "    layers\n",
    "    Chain(layers...) = new(layers)\n",
    "end\n",
    "(c::Chain)(x) = (for l in c.layers; x = l(x); end; x)\n",
    "(c::Chain)(x,y) = nll(c(x),y)\n",
    "(c::Chain)(d::Data) = mean(c(x,y) for (x,y) in d)"
   ]
  },
  {
   "cell_type": "raw",
   "metadata": {},
   "source": [
    "# For running experiments\n",
    "filter_hs=[3,4,5], windows size ? \n",
    "hidden_units=[100,2] #which meaning ...... how many conv layers \n",
    "dropout_rate=[0.5] #where in which layer ? conv or dense\n",
    "shuffle_batch=True, \n",
    "n_epochs=20, \n",
    "batch_size=170, \n",
    "lr_decay = 0.95, lr\n",
    "conv_non_linear=\"relu\"\n",
    "\n",
    "function trainresults(file,model; o...)\n",
    "    if (print(\"Train from scratch? \"); readline()[1]=='y')\n",
    "        takeevery(n,itr) = (x for (i,x) in enumerate(itr) if i % n == 1)\n",
    "        r = ((model(dtrn), model(dtst), zeroone(model,dtrn), zeroone(model,dtst))\n",
    "             for x in takeevery(length(dtrn), progress(sgd(model,repeat(dtrn,100)))))\n",
    "        r = reshape(collect(Float32,flatten(r)),(4,:))\n",
    "        Knet.save(file,\"results\",r)\n",
    "        Knet.gc() # To save gpu memory\n",
    "    else\n",
    "        isfile(file) || download(\"http://people.csail.mit.edu/deniz/models/tutorial/$file\",file)\n",
    "        r = Knet.load(file,\"results\")\n",
    "    end\n",
    "    println(minimum(r,dims=2))\n",
    "    return r\n",
    "end"
   ]
  },
  {
   "cell_type": "raw",
   "metadata": {},
   "source": [
    "lenet =   Chain(Conv(5,5,1,20), \n",
    "                Conv(5,5,20,50), \n",
    "                Dense(800,500,pdrop=0.3), \n",
    "                Dense(500,10,identity,pdrop=0.3))\n",
    "summary.(l.w for l in lenet.layers)\n",
    "cnn = trainresults(\"cnn113.jld2\", lenet);"
   ]
  }
 ],
 "metadata": {
  "kernelspec": {
   "display_name": "Julia 1.1.0",
   "language": "julia",
   "name": "julia-1.1"
  },
  "language_info": {
   "file_extension": ".jl",
   "mimetype": "application/julia",
   "name": "julia",
   "version": "1.1.0"
  }
 },
 "nbformat": 4,
 "nbformat_minor": 2
}
